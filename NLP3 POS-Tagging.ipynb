{
 "cells": [
  {
   "cell_type": "markdown",
   "id": "3f89b531-625d-4913-8f1a-ed8b8dd20cfb",
   "metadata": {},
   "source": [
    "# Practical 3: Implement Part-Of-Speech tagging."
   ]
  },
  {
   "cell_type": "code",
   "execution_count": 7,
   "id": "4f7a2089-2b28-4be5-8d36-e9651f562eb9",
   "metadata": {},
   "outputs": [
    {
     "name": "stderr",
     "output_type": "stream",
     "text": [
      "[nltk_data] Downloading package punkt to\n",
      "[nltk_data]     C:\\Users\\jassh\\AppData\\Roaming\\nltk_data...\n",
      "[nltk_data]   Package punkt is already up-to-date!\n",
      "[nltk_data] Downloading package averaged_perceptron_tagger_eng to\n",
      "[nltk_data]     C:\\Users\\jassh\\AppData\\Roaming\\nltk_data...\n",
      "[nltk_data]   Unzipping taggers\\averaged_perceptron_tagger_eng.zip.\n"
     ]
    },
    {
     "name": "stdout",
     "output_type": "stream",
     "text": [
      "Word → POS Tag\n",
      "---------------------\n",
      "The → DT\n",
      "quick → JJ\n",
      "brown → NN\n",
      "fox → NN\n",
      "jumps → VBZ\n",
      "over → IN\n",
      "the → DT\n",
      "lazy → JJ\n",
      "dog → NN\n",
      ". → .\n"
     ]
    }
   ],
   "source": [
    "import nltk\n",
    "\n",
    "# Download necessary NLTK data (only needs to be done once)\n",
    "nltk.download('punkt')    # for tokenizing text into words\n",
    "nltk.download('averaged_perceptron_tagger_eng')i9  # for POS tagging\n",
    "\n",
    "# Sample sentence\n",
    "sentence = \"The quick brown fox jumps over the lazy dog.\"\n",
    "\n",
    "# Step 1: Tokenize the sentence (split it into words)\n",
    "words = nltk.word_tokenize(sentence)\n",
    "\n",
    "# Step 2: Apply POS tagging\n",
    "pos_tags = nltk.pos_tag(words)\n",
    "\n",
    "# Print the result\n",
    "print(\"Word → POS Tag\")\n",
    "print(\"---------------------\")\n",
    "for word, tag in pos_tags:\n",
    "    print(f\"{word} → {tag}\")\n"
   ]
  },
  {
   "cell_type": "code",
   "execution_count": null,
   "id": "4bfa9c9e-94ce-4068-8fad-d9e086bd06c3",
   "metadata": {},
   "outputs": [],
   "source": []
  }
 ],
 "metadata": {
  "kernelspec": {
   "display_name": "Python 3 (ipykernel)",
   "language": "python",
   "name": "python3"
  },
  "language_info": {
   "codemirror_mode": {
    "name": "ipython",
    "version": 3
   },
   "file_extension": ".py",
   "mimetype": "text/x-python",
   "name": "python",
   "nbconvert_exporter": "python",
   "pygments_lexer": "ipython3",
   "version": "3.12.1"
  }
 },
 "nbformat": 4,
 "nbformat_minor": 5
}
