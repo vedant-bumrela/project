{
 "cells": [
  {
   "cell_type": "markdown",
   "id": "469909c0-5311-408e-8817-f11c98f36b18",
   "metadata": {},
   "source": [
    "# Practical 5: Implement N-Gram Model"
   ]
  },
  {
   "cell_type": "code",
   "execution_count": 1,
   "id": "b2398ef4-4295-4179-9bc9-f4f4d06e5587",
   "metadata": {},
   "outputs": [],
   "source": [
    "import nltk\n",
    "from nltk.util import ngrams\n",
    "from nltk.tokenize import word_tokenize"
   ]
  },
  {
   "cell_type": "code",
   "execution_count": 2,
   "id": "c9d64534-24b5-4cae-ad14-fae893a0fa36",
   "metadata": {},
   "outputs": [
    {
     "name": "stderr",
     "output_type": "stream",
     "text": [
      "[nltk_data] Downloading package punkt to\n",
      "[nltk_data]     C:\\Users\\jassh\\AppData\\Roaming\\nltk_data...\n",
      "[nltk_data]   Package punkt is already up-to-date!\n"
     ]
    },
    {
     "data": {
      "text/plain": [
       "True"
      ]
     },
     "execution_count": 2,
     "metadata": {},
     "output_type": "execute_result"
    }
   ],
   "source": [
    "nltk.download('punkt')"
   ]
  },
  {
   "cell_type": "code",
   "execution_count": 3,
   "id": "8a161957-b597-4d98-81b2-09f78c6884ba",
   "metadata": {},
   "outputs": [],
   "source": [
    "text = \"Natural Language Processing is fun to learn\""
   ]
  },
  {
   "cell_type": "code",
   "execution_count": 4,
   "id": "17bbc643-7a00-488d-a89d-5d9997dadbad",
   "metadata": {},
   "outputs": [],
   "source": [
    "tokens = word_tokenize(text)"
   ]
  },
  {
   "cell_type": "code",
   "execution_count": 5,
   "id": "a68abaed-d326-4540-8a5a-ad7d0d56eb61",
   "metadata": {},
   "outputs": [
    {
     "data": {
      "text/plain": [
       "['Natural', 'Language', 'Processing', 'is', 'fun', 'to', 'learn']"
      ]
     },
     "execution_count": 5,
     "metadata": {},
     "output_type": "execute_result"
    }
   ],
   "source": [
    "tokens"
   ]
  },
  {
   "cell_type": "code",
   "execution_count": 6,
   "id": "26ba7ba8-dd9b-4cd5-993d-513bb3b8f447",
   "metadata": {},
   "outputs": [
    {
     "name": "stdout",
     "output_type": "stream",
     "text": [
      "\n",
      "Bigrams (2-grams): \n",
      "('Natural', 'Language')\n",
      "('Language', 'Processing')\n",
      "('Processing', 'is')\n",
      "('is', 'fun')\n",
      "('fun', 'to')\n",
      "('to', 'learn')\n"
     ]
    }
   ],
   "source": [
    "bigram = list(ngrams(tokens, 2))\n",
    "print(\"\\nBigrams (2-grams): \")\n",
    "for pair in bigram:\n",
    "    print(pair)"
   ]
  },
  {
   "cell_type": "code",
   "execution_count": 7,
   "id": "2d0acca6-93a8-4dad-807d-253256446a21",
   "metadata": {},
   "outputs": [
    {
     "name": "stdout",
     "output_type": "stream",
     "text": [
      "\n",
      "Trigrams (3-grams): \n",
      "[('Natural', 'Language', 'Processing'), ('Language', 'Processing', 'is'), ('Processing', 'is', 'fun'), ('is', 'fun', 'to'), ('fun', 'to', 'learn')]\n",
      "[('Natural', 'Language', 'Processing'), ('Language', 'Processing', 'is'), ('Processing', 'is', 'fun'), ('is', 'fun', 'to'), ('fun', 'to', 'learn')]\n",
      "[('Natural', 'Language', 'Processing'), ('Language', 'Processing', 'is'), ('Processing', 'is', 'fun'), ('is', 'fun', 'to'), ('fun', 'to', 'learn')]\n",
      "[('Natural', 'Language', 'Processing'), ('Language', 'Processing', 'is'), ('Processing', 'is', 'fun'), ('is', 'fun', 'to'), ('fun', 'to', 'learn')]\n",
      "[('Natural', 'Language', 'Processing'), ('Language', 'Processing', 'is'), ('Processing', 'is', 'fun'), ('is', 'fun', 'to'), ('fun', 'to', 'learn')]\n"
     ]
    }
   ],
   "source": [
    "trigram = list(ngrams(tokens, 3))\n",
    "print(\"\\nTrigrams (3-grams): \")\n",
    "for pair in trigram:\n",
    "    print(trigram)"
   ]
  }
 ],
 "metadata": {
  "kernelspec": {
   "display_name": "Python 3 (ipykernel)",
   "language": "python",
   "name": "python3"
  },
  "language_info": {
   "codemirror_mode": {
    "name": "ipython",
    "version": 3
   },
   "file_extension": ".py",
   "mimetype": "text/x-python",
   "name": "python",
   "nbconvert_exporter": "python",
   "pygments_lexer": "ipython3",
   "version": "3.12.1"
  }
 },
 "nbformat": 4,
 "nbformat_minor": 5
}
