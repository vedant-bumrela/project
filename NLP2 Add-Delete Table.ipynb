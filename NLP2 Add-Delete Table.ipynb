{
 "cells": [
  {
   "cell_type": "markdown",
   "id": "6b10e56c-dbb4-478e-8273-e9565a1437c4",
   "metadata": {},
   "source": [
    "# Practical 2: Study and understand the concepts of Morphology by the use of add, delete table."
   ]
  },
  {
   "cell_type": "code",
   "execution_count": 15,
   "id": "08878c01-bb82-4ab2-93d4-4210d1d8d84f",
   "metadata": {},
   "outputs": [
    {
     "name": "stdout",
     "output_type": "stream",
     "text": [
      "Delete Table (removing prefixes/suffixes):\n",
      "------------------------------------------\n",
      "Removed suffix 'ing' from 'running' ➝ Root: 'runn'\n",
      "\n",
      "Removed suffix 'ed' from 'played' ➝ Root: 'play'\n",
      "\n",
      "Removed suffix 'ness' from 'happiness' ➝ Root: 'happi'\n",
      "\n",
      "Removed prefix 'un' from 'unhappy' ➝ Root: 'happy'\n",
      "\n",
      "Removed prefix 're' from 'replaying' ➝ Root: 'playing'\n",
      "Removed suffix 'ing' from 'replaying' ➝ Root: 'play'\n",
      "\n",
      "\n",
      "Add Table (adding prefixes/suffixes to root word 'play'):\n",
      "----------------------------------------------------------\n",
      "Added prefix 'un' ➝ unplay\n",
      "Added prefix 're' ➝ replay\n",
      "Added prefix 'in' ➝ inplay\n",
      "Added suffix 'ing' ➝ playing\n",
      "Added suffix 'ed' ➝ played\n",
      "Added suffix 'ness' ➝ playness\n",
      "Added suffix 'ly' ➝ playly\n"
     ]
    }
   ],
   "source": [
    "# Sample words\n",
    "words = [\"running\", \"played\", \"happiness\", \"unhappy\", \"replaying\"]\n",
    "\n",
    "# Define suffixes and prefixes to remove or add\n",
    "suffixes = [\"ing\", \"ed\", \"ness\", \"ly\"]\n",
    "prefixes = [\"un\", \"re\", \"in\"]\n",
    "\n",
    "print(\"Delete Table (removing prefixes/suffixes):\")\n",
    "print(\"------------------------------------------\")\n",
    "for word in words:\n",
    "    root = word\n",
    "    for pre in prefixes:\n",
    "        if word.startswith(pre):\n",
    "            root = word[len(pre):]\n",
    "            print(f\"Removed prefix '{pre}' from '{word}' ➝ Root: '{root}'\")\n",
    "    for suf in suffixes:\n",
    "        if word.endswith(suf):\n",
    "            root = root[:-len(suf)]\n",
    "            print(f\"Removed suffix '{suf}' from '{word}' ➝ Root: '{root}'\")\n",
    "    print()\n",
    "\n",
    "print(\"\\nAdd Table (adding prefixes/suffixes to root word 'play'):\")\n",
    "print(\"----------------------------------------------------------\")\n",
    "root_word = \"play\"\n",
    "for pre in prefixes:\n",
    "    new_word = pre + root_word\n",
    "    print(f\"Added prefix '{pre}' ➝ {new_word}\")\n",
    "for suf in suffixes:\n",
    "    new_word = root_word + suf\n",
    "    print(f\"Added suffix '{suf}' ➝ {new_word}\")\n"
   ]
  }
 ],
 "metadata": {
  "kernelspec": {
   "display_name": "Python 3 (ipykernel)",
   "language": "python",
   "name": "python3"
  },
  "language_info": {
   "codemirror_mode": {
    "name": "ipython",
    "version": 3
   },
   "file_extension": ".py",
   "mimetype": "text/x-python",
   "name": "python",
   "nbconvert_exporter": "python",
   "pygments_lexer": "ipython3",
   "version": "3.12.1"
  }
 },
 "nbformat": 4,
 "nbformat_minor": 5
}
