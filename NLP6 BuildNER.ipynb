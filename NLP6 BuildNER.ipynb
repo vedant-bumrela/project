{
 "cells": [
  {
   "cell_type": "markdown",
   "id": "05d9674c-9be2-43a1-94ac-a2a079c81f12",
   "metadata": {},
   "source": [
    "# Practical 6: Build & Evaluate a NER system using existing NER libraries"
   ]
  },
  {
   "cell_type": "code",
   "execution_count": 4,
   "id": "b509fd0e-9c66-4402-ac4b-00cae597233c",
   "metadata": {},
   "outputs": [
    {
     "name": "stdout",
     "output_type": "stream",
     "text": [
      "Named Entities:\n",
      "----------------\n",
      "Text: Apple, Label: ORG\n",
      "Text: the United Kingdom, Label: GPE\n",
      "Text: $1 billion, Label: MONEY\n",
      "\n",
      "Summary:\n",
      "Total Entities found: 3\n"
     ]
    }
   ],
   "source": [
    "# Step 1: Install and import spaCy\n",
    "# Run this in terminal if not installed: pip install spacy\n",
    "\n",
    "import spacy\n",
    "\n",
    "# Step 2: Load the English model (already trained for NER)\n",
    "nlp = spacy.load(\"en_core_web_sm\")  # \"C:\\Users\\jassh\\AppData\\Local\\Programs\\Python\\Python312\\python.exe\" -m spacy download en_core_web_sm\n",
    "\n",
    "# Step 3: Input text\n",
    "text = \"Apple is looking at buying a startup in the United Kingdom for $1 billion.\"\n",
    "\n",
    "# Step 4: Process the text with spaCy\n",
    "doc = nlp(text)\n",
    "\n",
    "# Step 5: Print Named Entities\n",
    "print(\"Named Entities:\")\n",
    "print(\"----------------\")\n",
    "for ent in doc.ents:\n",
    "    print(f\"Text: {ent.text}, Label: {ent.label_}\")\n",
    "\n",
    "# Step 6: Evaluate (basic way: just print the results)\n",
    "print(\"\\nSummary:\")\n",
    "print(f\"Total Entities found: {len(doc.ents)}\")"
   ]
  }
 ],
 "metadata": {
  "kernelspec": {
   "display_name": "Python 3 (ipykernel)",
   "language": "python",
   "name": "python3"
  },
  "language_info": {
   "codemirror_mode": {
    "name": "ipython",
    "version": 3
   },
   "file_extension": ".py",
   "mimetype": "text/x-python",
   "name": "python",
   "nbconvert_exporter": "python",
   "pygments_lexer": "ipython3",
   "version": "3.12.1"
  }
 },
 "nbformat": 4,
 "nbformat_minor": 5
}
