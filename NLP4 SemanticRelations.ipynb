{
 "cells": [
  {
   "cell_type": "markdown",
   "id": "eeab4437-9040-4acc-bd94-a1d313b66516",
   "metadata": {},
   "source": [
    "# Practical 4: Identify semantic relationship between word from given text (use word net dictionary)"
   ]
  },
  {
   "cell_type": "code",
   "execution_count": 1,
   "id": "a23e4a65-107c-4f08-bbfd-65921f7d3d8c",
   "metadata": {},
   "outputs": [],
   "source": [
    "import nltk\n",
    "from nltk.corpus import wordnet"
   ]
  },
  {
   "cell_type": "code",
   "execution_count": 2,
   "id": "09c56cf8-f7ce-4169-8509-14b12cafa558",
   "metadata": {},
   "outputs": [
    {
     "name": "stderr",
     "output_type": "stream",
     "text": [
      "[nltk_data] Downloading package wordnet to\n",
      "[nltk_data]     C:\\Users\\jassh\\AppData\\Roaming\\nltk_data...\n",
      "[nltk_data]   Package wordnet is already up-to-date!\n"
     ]
    },
    {
     "data": {
      "text/plain": [
       "True"
      ]
     },
     "execution_count": 2,
     "metadata": {},
     "output_type": "execute_result"
    }
   ],
   "source": [
    "# Download WordNet data (only needed once)\n",
    "\n",
    "nltk.download('wordnet')"
   ]
  },
  {
   "cell_type": "code",
   "execution_count": 3,
   "id": "97741860-c8b9-4c7d-910e-4057c3ec21c1",
   "metadata": {},
   "outputs": [],
   "source": [
    "# Choose a word to analyze\n",
    "\n",
    "word = \"dog\""
   ]
  },
  {
   "cell_type": "code",
   "execution_count": 4,
   "id": "0459c6b2-3e2c-4b56-a6af-22464cf11eb6",
   "metadata": {},
   "outputs": [
    {
     "name": "stdout",
     "output_type": "stream",
     "text": [
      "Synsets for 'dog': \n",
      "---------------------------------------------------------------------------------------------------------------------------------------------------\n",
      "- dog.n.01 -> a member of the genus Canis (probably descended from the common wolf) that has been domesticated by man since prehistoric times; occurs in many breeds\n",
      "- frump.n.01 -> a dull unattractive unpleasant girl or woman\n",
      "- dog.n.03 -> informal term for a man\n",
      "- cad.n.01 -> someone who is morally reprehensible\n",
      "- frank.n.02 -> a smooth-textured sausage of minced beef or pork usually smoked; often served on a bread roll\n",
      "- pawl.n.01 -> a hinged catch that fits into a notch of a ratchet to move a wheel forward or prevent it from moving backward\n",
      "- andiron.n.01 -> metal supports for logs in a fireplace\n",
      "- chase.v.01 -> go after with the intent to catch\n"
     ]
    }
   ],
   "source": [
    "# Get synsets (meanings) of the word\n",
    "\n",
    "synsets = wordnet.synsets(word)\n",
    "print(f\"Synsets for '{word}': \")\n",
    "print(\"---------------------------------------------------------------------------------------------------------------------------------------------------\")\n",
    "for syn in synsets:\n",
    "    print(f\"- {syn.name()} -> {syn.definition()}\")"
   ]
  },
  {
   "cell_type": "code",
   "execution_count": 5,
   "id": "7a73cd67-2f96-41d0-a319-68fc8867d71a",
   "metadata": {},
   "outputs": [],
   "source": [
    "# Pick the first synset to explore relations\n",
    "\n",
    "main_synset = synsets[0]"
   ]
  },
  {
   "cell_type": "code",
   "execution_count": 6,
   "id": "7a7637a2-fffd-4331-8cf4-cf0138e52d8c",
   "metadata": {},
   "outputs": [
    {
     "name": "stdout",
     "output_type": "stream",
     "text": [
      "Synonyms for dog: {'dog', 'Canis_familiaris', 'domestic_dog'}\n"
     ]
    }
   ],
   "source": [
    "#1. Synonyms\n",
    "\n",
    "synonyms = set()\n",
    "for lemma in main_synset.lemmas():\n",
    "    synonyms.add(lemma.name())\n",
    "print(f\"Synonyms for {word}: {synonyms}\")"
   ]
  },
  {
   "cell_type": "code",
   "execution_count": 11,
   "id": "41349d56-78e5-4c7c-9c05-c3ac2833bdc3",
   "metadata": {},
   "outputs": [
    {
     "name": "stdout",
     "output_type": "stream",
     "text": [
      "Antonyms of 'dog': set()\n"
     ]
    }
   ],
   "source": [
    "#2. Antonyms\n",
    "\n",
    "antonyms = set()\n",
    "for lemma in main_synset.lemmas():\n",
    "    if lemma.antonyms():\n",
    "        antonyms.add(lemma.antonyms()[0].name())\n",
    "print(f\"Antonyms of '{word}': {antonyms}\")"
   ]
  },
  {
   "cell_type": "code",
   "execution_count": 8,
   "id": "594fe8ae-ddfe-46ae-9d37-0c950f37af5d",
   "metadata": {},
   "outputs": [
    {
     "name": "stdout",
     "output_type": "stream",
     "text": [
      "- domestic_animal.n.01 -> any of various animals that have been tamed and made fit for a human environment\n",
      "- canine.n.02 -> any of various fissiped mammals with nonretractile claws and typically long muzzles\n"
     ]
    }
   ],
   "source": [
    "#3. Hypernyms\n",
    "\n",
    "for hyper in main_synset.hypernyms():\n",
    "    print(f\"- {hyper.name()} -> {hyper.definition()}\")"
   ]
  },
  {
   "cell_type": "code",
   "execution_count": 9,
   "id": "3234420a-1f7a-47a6-8ddf-2274e785211c",
   "metadata": {},
   "outputs": [
    {
     "name": "stdout",
     "output_type": "stream",
     "text": [
      "- cur.n.01 -> an inferior dog or one of mixed breed\n",
      "- pooch.n.01 -> informal terms for dogs\n",
      "- lapdog.n.01 -> a dog small and tame enough to be held in the lap\n",
      "- spitz.n.01 -> any of various stocky heavy-coated breeds of dogs native to northern regions having pointed muzzles and erect ears with a curled furry tail\n",
      "- griffon.n.02 -> breed of various very small compact wiry-coated dogs of Belgian origin having a short bearded muzzle\n",
      "- corgi.n.01 -> either of two Welsh breeds of long-bodied short-legged dogs with erect ears and a fox-like head\n",
      "- toy_dog.n.01 -> any of several breeds of very small dogs kept purely as pets\n",
      "- basenji.n.01 -> small smooth-haired breed of African origin having a tightly curled tail and the inability to bark\n",
      "- puppy.n.01 -> a young dog\n",
      "- mexican_hairless.n.01 -> any of an old breed of small nearly hairless dogs of Mexico\n",
      "- great_pyrenees.n.01 -> bred of large heavy-coated white dogs resembling the Newfoundland\n",
      "- working_dog.n.01 -> any of several breeds of usually large powerful dogs bred to work as draft animals and guard and guide dogs\n",
      "- hunting_dog.n.01 -> a dog used in hunting game\n",
      "- poodle.n.01 -> an intelligent dog with a heavy curly solid-colored coat that is usually clipped; an old breed sometimes trained as sporting dogs or as performing dogs\n",
      "- leonberg.n.01 -> a large dog (usually with a golden coat) produced by crossing a St Bernard and a Newfoundland\n",
      "- newfoundland.n.01 -> a breed of very large heavy dogs with a thick coarse usually black coat; highly intelligent dogs and vigorous swimmers; developed in Newfoundland\n",
      "- pug.n.01 -> small compact smooth-coated breed of Asiatic origin having a tightly curled tail and broad flat wrinkled muzzle\n",
      "- dalmatian.n.02 -> a large breed having a smooth white coat with black or brown spots; originated in Dalmatia\n"
     ]
    }
   ],
   "source": [
    "#4. Hyponym\n",
    "\n",
    "for hypo in main_synset.hyponyms():\n",
    "    print(f\"- {hypo.name()} -> {hypo.definition()}\")"
   ]
  }
 ],
 "metadata": {
  "kernelspec": {
   "display_name": "Python 3 (ipykernel)",
   "language": "python",
   "name": "python3"
  },
  "language_info": {
   "codemirror_mode": {
    "name": "ipython",
    "version": 3
   },
   "file_extension": ".py",
   "mimetype": "text/x-python",
   "name": "python",
   "nbconvert_exporter": "python",
   "pygments_lexer": "ipython3",
   "version": "3.12.1"
  }
 },
 "nbformat": 4,
 "nbformat_minor": 5
}
