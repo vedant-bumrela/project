{
 "cells": [
  {
   "cell_type": "markdown",
   "id": "e9c7f7fc-ffab-4085-9704-5bb5272f62de",
   "metadata": {},
   "source": [
    "# Practical 7: Perform Named Entity Recognition on a given text"
   ]
  },
  {
   "cell_type": "code",
   "execution_count": 2,
   "id": "9872a211-eebb-4187-8d2b-484c14b0dea6",
   "metadata": {},
   "outputs": [
    {
     "name": "stdout",
     "output_type": "stream",
     "text": [
      "Named Entities:\n",
      "----------------\n",
      "Entity: Barack Obama, Label: PERSON\n",
      "Entity: 44th, Label: ORDINAL\n",
      "Entity: the United States, Label: GPE\n",
      "Entity: Hawaii, Label: GPE\n"
     ]
    }
   ],
   "source": [
    "# Step 1: Install and import spaCy\n",
    "# Run in terminal if not installed: pip install spacy\n",
    "\n",
    "import spacy\n",
    "\n",
    "# Step 2: Load the pre-trained English model\n",
    "nlp = spacy.load(\"en_core_web_sm\")  # \"C:\\Users\\jassh\\AppData\\Local\\Programs\\Python\\Python312\\python.exe\" -m spacy download en_core_web_sm\n",
    "\n",
    "# Step 3: Input your text\n",
    "text = \"Barack Obama was the 44th President of the United States and he was born in Hawaii.\"\n",
    "\n",
    "# Step 4: Process the text (NER happens here automatically)\n",
    "doc = nlp(text)\n",
    "\n",
    "# Step 5: Print the Named Entities\n",
    "print(\"Named Entities:\")\n",
    "print(\"----------------\")\n",
    "for ent in doc.ents:\n",
    "    print(f\"Entity: {ent.text}, Label: {ent.label_}\")\n"
   ]
  }
 ],
 "metadata": {
  "kernelspec": {
   "display_name": "Python 3 (ipykernel)",
   "language": "python",
   "name": "python3"
  },
  "language_info": {
   "codemirror_mode": {
    "name": "ipython",
    "version": 3
   },
   "file_extension": ".py",
   "mimetype": "text/x-python",
   "name": "python",
   "nbconvert_exporter": "python",
   "pygments_lexer": "ipython3",
   "version": "3.12.1"
  }
 },
 "nbformat": 4,
 "nbformat_minor": 5
}
